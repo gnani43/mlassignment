{
 "cells": [
  {
   "cell_type": "code",
   "execution_count": 6,
   "id": "d1ce146a",
   "metadata": {},
   "outputs": [
    {
     "name": "stdout",
     "output_type": "stream",
     "text": [
      "92.07822168519898\n"
     ]
    }
   ],
   "source": [
    "import pandas as pd\n",
    "import numpy as np\n",
    "from sklearn.metrics.pairwise import cosine_similarity\n",
    "data = pd.read_csv(r\"C:\\Users\\year3\\Downloads\\Custom_CNN_Features.csv\")\n",
    "vector1 = data.iloc[0, 1:].apply(lambda x: float(x) if str(x).replace('.', '', 1).isdigit() else np.nan)\n",
    "vector2 = data.iloc[1, 1:].apply(lambda x: float(x) if str(x).replace('.', '', 1).isdigit() else np.nan)\n",
    "vector=np.mean(vector1)\n",
    "print (d)"
   ]
  },
  {
   "cell_type": "code",
   "execution_count": 7,
   "id": "79b84d3b",
   "metadata": {},
   "outputs": [
    {
     "name": "stdout",
     "output_type": "stream",
     "text": [
      "              Filename  Label          f0   f1   f2   f3   f4   f5  \\\n",
      "0                1.png      2   50.557468  0.0  0.0  0.0  0.0  0.0   \n",
      "1           10.jpg.png      2  125.256027  0.0  0.0  0.0  0.0  0.0   \n",
      "2               10.png      2   50.160606  0.0  0.0  0.0  0.0  0.0   \n",
      "3              100.png      2   63.720730  0.0  0.0  0.0  0.0  0.0   \n",
      "4            10091.jpg      2   64.484604  0.0  0.0  0.0  0.0  0.0   \n",
      "...                ...    ...         ...  ...  ...  ...  ...  ...   \n",
      "3248  patch_84.jpg.png      2  283.005707  0.0  0.0  0.0  0.0  0.0   \n",
      "3249  patch_85.jpg.png      2  609.193603  0.0  0.0  0.0  0.0  0.0   \n",
      "3250  patch_86.jpg.png      2  781.789490  0.0  0.0  0.0  0.0  0.0   \n",
      "3251  patch_87.jpg.png      2  688.966675  0.0  0.0  0.0  0.0  0.0   \n",
      "3252   patch_9.jpg.png      2  180.310455  0.0  0.0  0.0  0.0  0.0   \n",
      "\n",
      "              f6  f7  ...         f190  f191         f192         f193  \\\n",
      "0       0.000000   0  ...   316.271667   0.0   239.577011   277.834534   \n",
      "1      48.989120   0  ...  1317.333740   0.0  1000.075012  1118.496948   \n",
      "2       0.000000   0  ...   330.470978   0.0   251.886398   288.062134   \n",
      "3       0.000000   0  ...   442.839233   0.0   345.145599   389.100678   \n",
      "4      37.368713   0  ...   835.147400   0.0   649.643616   693.101868   \n",
      "...          ...  ..  ...          ...   ...          ...          ...   \n",
      "3248   73.068192   0  ...  2643.636230   0.0  2036.106934  2269.582275   \n",
      "3249  131.018112   0  ...  5950.206055   0.0  4727.840820  5170.731934   \n",
      "3250  174.997360   0  ...  7535.423828   0.0  5972.883789  6563.629883   \n",
      "3251  206.603851   0  ...  7119.000977   0.0  5575.274414  6160.208984   \n",
      "3252   81.433441   0  ...  1922.478027   0.0  1477.720093  1617.056763   \n",
      "\n",
      "             f194  f195  f196  f197  f198         f199  \n",
      "0      205.776398   0.0   0.0   0.0   0.0    91.438698  \n",
      "1     1030.366699   0.0   0.0   0.0   0.0   297.483124  \n",
      "2      220.889481   0.0   0.0   0.0   0.0    93.795654  \n",
      "3      304.433990   0.0   0.0   0.0   0.0   117.381721  \n",
      "4      690.640564   0.0   0.0   0.0   0.0   159.916016  \n",
      "...           ...   ...   ...   ...   ...          ...  \n",
      "3248  1973.414917   0.0   0.0   0.0   0.0   657.907715  \n",
      "3249  4594.757324   0.0   0.0   0.0   0.0  1362.733398  \n",
      "3250  5749.376465   0.0   0.0   0.0   0.0  1758.735840  \n",
      "3251  5423.260742   0.0   0.0   0.0   0.0  1670.340088  \n",
      "3252  1526.339966   0.0   0.0   0.0   0.0   408.525330  \n",
      "\n",
      "[3253 rows x 202 columns]\n"
     ]
    }
   ],
   "source": [
    "import pandas as pd\n",
    "import numpy as np\n",
    "from sklearn.metrics.pairwise import cosine_similarity\n",
    "data = pd.read_csv(r\"C:\\Users\\year3\\Downloads\\Custom_CNN_Features.csv\")\n",
    "print (data)"
   ]
  },
  {
   "cell_type": "code",
   "execution_count": null,
   "id": "a6aaf0df",
   "metadata": {},
   "outputs": [],
   "source": []
  }
 ],
 "metadata": {
  "kernelspec": {
   "display_name": "Python 3 (ipykernel)",
   "language": "python",
   "name": "python3"
  },
  "language_info": {
   "codemirror_mode": {
    "name": "ipython",
    "version": 3
   },
   "file_extension": ".py",
   "mimetype": "text/x-python",
   "name": "python",
   "nbconvert_exporter": "python",
   "pygments_lexer": "ipython3",
   "version": "3.9.13"
  }
 },
 "nbformat": 4,
 "nbformat_minor": 5
}
